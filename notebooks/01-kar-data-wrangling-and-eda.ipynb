{
 "cells": [
  {
   "cell_type": "code",
   "execution_count": null,
   "metadata": {},
   "outputs": [],
   "source": [
    "import pandas as pd"
   ]
  },
  {
   "cell_type": "markdown",
   "metadata": {},
   "source": [
    "# Amazon Books Recommender System\n",
    "\n",
    "***Context:***\n",
    "\n",
    "Recommender systems are widespread in all aspects of user-facing industries, from Netflix, to Amazon, to LinkedIn or to YouTube. Due to the large volumes of content, products or posts being generated daily, users would be overwhelmed with information and simple searches may not generate adequate results that may be relevant to the user.\n",
    "\n",
    "As a result, recommender systems are a subclass of information filtering systems that provide suggestions for items that are most pertinent to a particular user. For example, over 70% of watch time on YouTube is spent watching videos the underlying recommender algorithm recommends. In this project, a recommender system will be designed for Amazon shoppers that would recommend books they would most likely enjoy based on the reviews of others.\n",
    "\n",
    "\n",
    "***Problem Statement:***\n",
    "\n",
    "_How can we accurately recommend new books to users using a user-item approach to encourage expanding user preferences to books they may not have otherwise found on their own?_\n"
   ]
  },
  {
   "cell_type": "code",
   "execution_count": null,
   "metadata": {},
   "outputs": [],
   "source": [
    "# Import Ratings Data into Pandas DF\n",
    "books = pd.read_csv('../data/Books.csv')\n",
    "books.head()"
   ]
  },
  {
   "cell_type": "code",
   "execution_count": null,
   "metadata": {},
   "outputs": [],
   "source": [
    "# Import Metadata about the Books into Pandas Df\n",
    "\n",
    "import gzip \n",
    "import json\n",
    "\n",
    "def parse(path):\n",
    "  g = gzip.open(path, 'r')\n",
    "  for l in g:\n",
    "    yield json.loads(l)\n",
    "\n",
    "def getDF(path):\n",
    "  i = 0\n",
    "  df = {}\n",
    "  for d in parse(path):\n",
    "    df[i] = d\n",
    "    i += 1\n",
    "  return pd.DataFrame.from_dict(df, orient='index')\n",
    "\n",
    "metadata = getDF('../data/books_meta.gz')"
   ]
  },
  {
   "cell_type": "code",
   "execution_count": null,
   "metadata": {},
   "outputs": [],
   "source": [
    "metadata.head()"
   ]
  },
  {
   "cell_type": "markdown",
   "metadata": {},
   "source": [
    "### Understanding the Chosen Algorithm"
   ]
  },
  {
   "cell_type": "markdown",
   "metadata": {},
   "source": [
    "\n",
    "![Recommender Systems, Categorized](../imgs/recommender_types.png)\n"
   ]
  },
  {
   "cell_type": "markdown",
   "metadata": {},
   "source": [
    "Recommender systems tend to come in two main flavors, each with their own advantages: collaborative filtering and content-based methods. And a more recent third approach that combines the best of both worlds.\n",
    "\n",
    "This project will be taking the collaborative filtering approach. It is a technique that can filter out items that a user might like on the basis of reactions by similar users. It works by searching a large group of people and finding a smaller set of users with tastes similar to a particular user. To get recommendations, it looks at the items they like and combines them to create a ranked list of suggestions.\n",
    "\n",
    "Descending one step further down, the collaborative filtering family has algorithms classified as either memory-based or model-based. The focus will be on a memory-based algorithm that uses item-item or item-based collaborative filtering.\n",
    "\n",
    "In sumamry, our approach is using an item-based collaborative filtering, that falls within the memory-based category of the larger family of collaborative filtering algorithms. This approach offers several advantages including scalability, accuracy and recommendations that are much easier to exaplin to users."
   ]
  },
  {
   "cell_type": "markdown",
   "metadata": {},
   "source": [
    "### Understanding the Data\n",
    "\n",
    "We'll be working with two datasets, one containing rows of ratings from users about a particular book (`books`) and another containing the metadata about all the books rated (`metadata`). \n",
    "\n",
    "The `books` dataset has rows of information in the form of `bookID userID rating timestamp`. This is the generally expected format for the data to be in for collaborative filtering based recommender algorithms. \n",
    "\n",
    "The `metadata` dataset has information about each book that was recommended, which include the following: \n",
    "- `asin` - ID of the product, e.g. 0000031852\n",
    "- `title` - name of the product\n",
    "- `feature` - bullet-point format features of the product\n",
    "- `description` - description of the product\n",
    "- `price` - price in US dollars (at time of crawl)\n",
    "- `imageURL` - url of the product image\n",
    "- `imageURLHighRes` - url of the high resolution product image\n",
    "- related - related products (also bought, also viewed, bought together, buy after viewing)\n",
    "- `rank` - sales rank information\n",
    "- `brand` - brand name\n",
    "- `category` - list of categories the product belongs to\n",
    "- `tech1` - the first technical detail table of the product\n",
    "- `tech2` - the second technical detail table of the product\n",
    "- `similar_item` - similar product table"
   ]
  },
  {
   "cell_type": "markdown",
   "metadata": {},
   "source": [
    "### Data Wrangling"
   ]
  },
  {
   "cell_type": "code",
   "execution_count": null,
   "metadata": {},
   "outputs": [],
   "source": [
    "# Add column headings to `books` df for clarification\n",
    "books1 = books.set_axis(['bookID', 'userID', 'rating', 'timestamp'], axis=1)\n",
    "books1.head()"
   ]
  },
  {
   "cell_type": "code",
   "execution_count": null,
   "metadata": {},
   "outputs": [],
   "source": [
    "# Get the shape of the `books` dataset\n",
    "books1.shape"
   ]
  },
  {
   "cell_type": "code",
   "execution_count": null,
   "metadata": {},
   "outputs": [],
   "source": [
    "# Get Descriptive Statistics\n",
    "books1.describe()"
   ]
  },
  {
   "cell_type": "markdown",
   "metadata": {},
   "source": [
    "## Exploratory Data Analysis"
   ]
  },
  {
   "cell_type": "markdown",
   "metadata": {},
   "source": [
    "How many unique users and unique books are in the dataset?"
   ]
  },
  {
   "cell_type": "code",
   "execution_count": null,
   "metadata": {},
   "outputs": [],
   "source": [
    "# Count number of Unique Users and Books\n",
    "unique_users = books1.userID.nunique()\n",
    "unique_books = books1.bookID.nunique()"
   ]
  },
  {
   "cell_type": "code",
   "execution_count": null,
   "metadata": {},
   "outputs": [],
   "source": [
    "print(f\"There are {unique_books} unique books rated by {unique_users} unique users.\")\n",
    "print(f\"In total, there are {books1.shape[0]} total reviews.\")"
   ]
  },
  {
   "cell_type": "markdown",
   "metadata": {},
   "source": [
    "What is the average number of books that a user rated?"
   ]
  },
  {
   "cell_type": "code",
   "execution_count": null,
   "metadata": {},
   "outputs": [],
   "source": [
    "avg_num_ratings = books1.groupby('userID').size().mean()"
   ]
  },
  {
   "cell_type": "code",
   "execution_count": null,
   "metadata": {},
   "outputs": [],
   "source": [
    "print(f\"The average number of books a user rated was {round(avg_num_ratings, 2)} books.\")"
   ]
  },
  {
   "cell_type": "markdown",
   "metadata": {},
   "source": [
    "What is the average number of ratings each book got?"
   ]
  },
  {
   "cell_type": "code",
   "execution_count": null,
   "metadata": {},
   "outputs": [],
   "source": [
    "ratings_per_book = books1.groupby('bookID').size().mean()\n",
    "print(f\"The average number of ratings each book received was {round(ratings_per_book, 2)}\")"
   ]
  },
  {
   "cell_type": "markdown",
   "metadata": {},
   "source": [
    "What is the average price of a book bought?"
   ]
  },
  {
   "cell_type": "code",
   "execution_count": null,
   "metadata": {},
   "outputs": [],
   "source": [
    "metadata.price.mean()"
   ]
  },
  {
   "cell_type": "code",
   "execution_count": null,
   "metadata": {},
   "outputs": [],
   "source": []
  }
 ],
 "metadata": {
  "kernelspec": {
   "display_name": "book-recommender",
   "language": "python",
   "name": "python3"
  },
  "language_info": {
   "codemirror_mode": {
    "name": "ipython",
    "version": 3
   },
   "file_extension": ".py",
   "mimetype": "text/x-python",
   "name": "python",
   "nbconvert_exporter": "python",
   "pygments_lexer": "ipython3",
   "version": "3.12.0"
  }
 },
 "nbformat": 4,
 "nbformat_minor": 2
}
