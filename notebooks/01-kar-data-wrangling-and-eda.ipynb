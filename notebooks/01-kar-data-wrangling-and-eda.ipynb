{
 "cells": [
  {
   "cell_type": "code",
   "execution_count": 2,
   "metadata": {},
   "outputs": [],
   "source": [
    "import pandas as pd"
   ]
  },
  {
   "cell_type": "markdown",
   "metadata": {},
   "source": [
    "# Amazon Books Recommender System\n",
    "\n",
    "***Context:***\n",
    "\n",
    "Recommender systems are widespread in all aspects of user-facing industries, from Netflix, to Amazon, to LinkedIn or to YouTube. Due to the large volumes of content, products or posts being generated daily, users would be overwhelmed with information and simple searches may not generate adequate results that may be relevant to the user.\n",
    "\n",
    "As a result, recommender systems are a subclass of information filtering systems that provide suggestions for items that are most pertinent to a particular user. For example, over 70% of watch time on YouTube is spent watching videos the underlying recommender algorithm recommends. In this project, a recommender system will be designed for Amazon shoppers that would recommend books they would most likely enjoy based on the reviews of others.\n",
    "\n",
    "\n",
    "***Problem Statement:***\n",
    "\n",
    "_How can we accurately recommend new books to users using an Item-item approach to encourage expanding user preferences to books they may not have otherwise found on their own?_\n"
   ]
  },
  {
   "cell_type": "code",
   "execution_count": 3,
   "metadata": {},
   "outputs": [
    {
     "data": {
      "text/html": [
       "<div>\n",
       "<style scoped>\n",
       "    .dataframe tbody tr th:only-of-type {\n",
       "        vertical-align: middle;\n",
       "    }\n",
       "\n",
       "    .dataframe tbody tr th {\n",
       "        vertical-align: top;\n",
       "    }\n",
       "\n",
       "    .dataframe thead th {\n",
       "        text-align: right;\n",
       "    }\n",
       "</style>\n",
       "<table border=\"1\" class=\"dataframe\">\n",
       "  <thead>\n",
       "    <tr style=\"text-align: right;\">\n",
       "      <th></th>\n",
       "      <th>0001713353</th>\n",
       "      <th>A1C6M8LCIX4M6M</th>\n",
       "      <th>5.0</th>\n",
       "      <th>1123804800</th>\n",
       "    </tr>\n",
       "  </thead>\n",
       "  <tbody>\n",
       "    <tr>\n",
       "      <th>0</th>\n",
       "      <td>0001713353</td>\n",
       "      <td>A1REUF3A1YCPHM</td>\n",
       "      <td>5.0</td>\n",
       "      <td>1112140800</td>\n",
       "    </tr>\n",
       "    <tr>\n",
       "      <th>1</th>\n",
       "      <td>0001713353</td>\n",
       "      <td>A1YRBRK2XM5D5</td>\n",
       "      <td>5.0</td>\n",
       "      <td>1081036800</td>\n",
       "    </tr>\n",
       "    <tr>\n",
       "      <th>2</th>\n",
       "      <td>0001713353</td>\n",
       "      <td>A1V8ZR5P78P4ZU</td>\n",
       "      <td>5.0</td>\n",
       "      <td>1077321600</td>\n",
       "    </tr>\n",
       "    <tr>\n",
       "      <th>3</th>\n",
       "      <td>0001713353</td>\n",
       "      <td>A2ZB06582NXCIV</td>\n",
       "      <td>5.0</td>\n",
       "      <td>1475452800</td>\n",
       "    </tr>\n",
       "    <tr>\n",
       "      <th>4</th>\n",
       "      <td>0001713353</td>\n",
       "      <td>ACPQVNRD3Z09X</td>\n",
       "      <td>5.0</td>\n",
       "      <td>1469750400</td>\n",
       "    </tr>\n",
       "  </tbody>\n",
       "</table>\n",
       "</div>"
      ],
      "text/plain": [
       "   0001713353  A1C6M8LCIX4M6M  5.0  1123804800\n",
       "0  0001713353  A1REUF3A1YCPHM  5.0  1112140800\n",
       "1  0001713353   A1YRBRK2XM5D5  5.0  1081036800\n",
       "2  0001713353  A1V8ZR5P78P4ZU  5.0  1077321600\n",
       "3  0001713353  A2ZB06582NXCIV  5.0  1475452800\n",
       "4  0001713353   ACPQVNRD3Z09X  5.0  1469750400"
      ]
     },
     "execution_count": 3,
     "metadata": {},
     "output_type": "execute_result"
    }
   ],
   "source": [
    "# Import Ratings Data into Pandas DF\n",
    "books = pd.read_csv('../data/Books.csv')\n",
    "books.head()"
   ]
  },
  {
   "cell_type": "code",
   "execution_count": 4,
   "metadata": {},
   "outputs": [
    {
     "ename": "KeyboardInterrupt",
     "evalue": "",
     "output_type": "error",
     "traceback": [
      "\u001b[0;31m---------------------------------------------------------------------------\u001b[0m",
      "\u001b[0;31mKeyboardInterrupt\u001b[0m                         Traceback (most recent call last)",
      "\u001b[1;32m/Users/kylerodriguez/Desktop/Springboard Data Science Track/amazon-recommender/notebooks/01-kar-data-wrangling-and-eda.ipynb Cell 4\u001b[0m line \u001b[0;36m1\n\u001b[1;32m     <a href='vscode-notebook-cell:/Users/kylerodriguez/Desktop/Springboard%20Data%20Science%20Track/amazon-recommender/notebooks/01-kar-data-wrangling-and-eda.ipynb#W3sZmlsZQ%3D%3D?line=15'>16</a>\u001b[0m     i \u001b[39m+\u001b[39m\u001b[39m=\u001b[39m \u001b[39m1\u001b[39m\n\u001b[1;32m     <a href='vscode-notebook-cell:/Users/kylerodriguez/Desktop/Springboard%20Data%20Science%20Track/amazon-recommender/notebooks/01-kar-data-wrangling-and-eda.ipynb#W3sZmlsZQ%3D%3D?line=16'>17</a>\u001b[0m   \u001b[39mreturn\u001b[39;00m pd\u001b[39m.\u001b[39mDataFrame\u001b[39m.\u001b[39mfrom_dict(df, orient\u001b[39m=\u001b[39m\u001b[39m'\u001b[39m\u001b[39mindex\u001b[39m\u001b[39m'\u001b[39m)\n\u001b[0;32m---> <a href='vscode-notebook-cell:/Users/kylerodriguez/Desktop/Springboard%20Data%20Science%20Track/amazon-recommender/notebooks/01-kar-data-wrangling-and-eda.ipynb#W3sZmlsZQ%3D%3D?line=18'>19</a>\u001b[0m metadata \u001b[39m=\u001b[39m getDF(\u001b[39m'\u001b[39;49m\u001b[39m../data/books_meta.gz\u001b[39;49m\u001b[39m'\u001b[39;49m)\n",
      "\u001b[1;32m/Users/kylerodriguez/Desktop/Springboard Data Science Track/amazon-recommender/notebooks/01-kar-data-wrangling-and-eda.ipynb Cell 4\u001b[0m line \u001b[0;36m1\n\u001b[1;32m     <a href='vscode-notebook-cell:/Users/kylerodriguez/Desktop/Springboard%20Data%20Science%20Track/amazon-recommender/notebooks/01-kar-data-wrangling-and-eda.ipynb#W3sZmlsZQ%3D%3D?line=11'>12</a>\u001b[0m i \u001b[39m=\u001b[39m \u001b[39m0\u001b[39m\n\u001b[1;32m     <a href='vscode-notebook-cell:/Users/kylerodriguez/Desktop/Springboard%20Data%20Science%20Track/amazon-recommender/notebooks/01-kar-data-wrangling-and-eda.ipynb#W3sZmlsZQ%3D%3D?line=12'>13</a>\u001b[0m df \u001b[39m=\u001b[39m {}\n\u001b[0;32m---> <a href='vscode-notebook-cell:/Users/kylerodriguez/Desktop/Springboard%20Data%20Science%20Track/amazon-recommender/notebooks/01-kar-data-wrangling-and-eda.ipynb#W3sZmlsZQ%3D%3D?line=13'>14</a>\u001b[0m \u001b[39mfor\u001b[39;49;00m d \u001b[39min\u001b[39;49;00m parse(path):\n\u001b[1;32m     <a href='vscode-notebook-cell:/Users/kylerodriguez/Desktop/Springboard%20Data%20Science%20Track/amazon-recommender/notebooks/01-kar-data-wrangling-and-eda.ipynb#W3sZmlsZQ%3D%3D?line=14'>15</a>\u001b[0m   df[i] \u001b[39m=\u001b[39;49m d\n\u001b[1;32m     <a href='vscode-notebook-cell:/Users/kylerodriguez/Desktop/Springboard%20Data%20Science%20Track/amazon-recommender/notebooks/01-kar-data-wrangling-and-eda.ipynb#W3sZmlsZQ%3D%3D?line=15'>16</a>\u001b[0m   i \u001b[39m+\u001b[39;49m\u001b[39m=\u001b[39;49m \u001b[39m1\u001b[39;49m\n",
      "\u001b[1;32m/Users/kylerodriguez/Desktop/Springboard Data Science Track/amazon-recommender/notebooks/01-kar-data-wrangling-and-eda.ipynb Cell 4\u001b[0m line \u001b[0;36m9\n\u001b[1;32m      <a href='vscode-notebook-cell:/Users/kylerodriguez/Desktop/Springboard%20Data%20Science%20Track/amazon-recommender/notebooks/01-kar-data-wrangling-and-eda.ipynb#W3sZmlsZQ%3D%3D?line=6'>7</a>\u001b[0m g \u001b[39m=\u001b[39m gzip\u001b[39m.\u001b[39mopen(path, \u001b[39m'\u001b[39m\u001b[39mr\u001b[39m\u001b[39m'\u001b[39m)\n\u001b[1;32m      <a href='vscode-notebook-cell:/Users/kylerodriguez/Desktop/Springboard%20Data%20Science%20Track/amazon-recommender/notebooks/01-kar-data-wrangling-and-eda.ipynb#W3sZmlsZQ%3D%3D?line=7'>8</a>\u001b[0m \u001b[39mfor\u001b[39;00m l \u001b[39min\u001b[39;00m g:\n\u001b[0;32m----> <a href='vscode-notebook-cell:/Users/kylerodriguez/Desktop/Springboard%20Data%20Science%20Track/amazon-recommender/notebooks/01-kar-data-wrangling-and-eda.ipynb#W3sZmlsZQ%3D%3D?line=8'>9</a>\u001b[0m   \u001b[39myield\u001b[39;00m json\u001b[39m.\u001b[39;49mloads(l)\n",
      "File \u001b[0;32m~/miniconda3/envs/book-recommender/lib/python3.12/json/__init__.py:346\u001b[0m, in \u001b[0;36mloads\u001b[0;34m(s, cls, object_hook, parse_float, parse_int, parse_constant, object_pairs_hook, **kw)\u001b[0m\n\u001b[1;32m    341\u001b[0m     s \u001b[39m=\u001b[39m s\u001b[39m.\u001b[39mdecode(detect_encoding(s), \u001b[39m'\u001b[39m\u001b[39msurrogatepass\u001b[39m\u001b[39m'\u001b[39m)\n\u001b[1;32m    343\u001b[0m \u001b[39mif\u001b[39;00m (\u001b[39mcls\u001b[39m \u001b[39mis\u001b[39;00m \u001b[39mNone\u001b[39;00m \u001b[39mand\u001b[39;00m object_hook \u001b[39mis\u001b[39;00m \u001b[39mNone\u001b[39;00m \u001b[39mand\u001b[39;00m\n\u001b[1;32m    344\u001b[0m         parse_int \u001b[39mis\u001b[39;00m \u001b[39mNone\u001b[39;00m \u001b[39mand\u001b[39;00m parse_float \u001b[39mis\u001b[39;00m \u001b[39mNone\u001b[39;00m \u001b[39mand\u001b[39;00m\n\u001b[1;32m    345\u001b[0m         parse_constant \u001b[39mis\u001b[39;00m \u001b[39mNone\u001b[39;00m \u001b[39mand\u001b[39;00m object_pairs_hook \u001b[39mis\u001b[39;00m \u001b[39mNone\u001b[39;00m \u001b[39mand\u001b[39;00m \u001b[39mnot\u001b[39;00m kw):\n\u001b[0;32m--> 346\u001b[0m     \u001b[39mreturn\u001b[39;00m _default_decoder\u001b[39m.\u001b[39;49mdecode(s)\n\u001b[1;32m    347\u001b[0m \u001b[39mif\u001b[39;00m \u001b[39mcls\u001b[39m \u001b[39mis\u001b[39;00m \u001b[39mNone\u001b[39;00m:\n\u001b[1;32m    348\u001b[0m     \u001b[39mcls\u001b[39m \u001b[39m=\u001b[39m JSONDecoder\n",
      "File \u001b[0;32m~/miniconda3/envs/book-recommender/lib/python3.12/json/decoder.py:338\u001b[0m, in \u001b[0;36mJSONDecoder.decode\u001b[0;34m(self, s, _w)\u001b[0m\n\u001b[1;32m    333\u001b[0m \u001b[39m\u001b[39m\u001b[39m\"\"\"Return the Python representation of ``s`` (a ``str`` instance\u001b[39;00m\n\u001b[1;32m    334\u001b[0m \u001b[39mcontaining a JSON document).\u001b[39;00m\n\u001b[1;32m    335\u001b[0m \n\u001b[1;32m    336\u001b[0m \u001b[39m\"\"\"\u001b[39;00m\n\u001b[1;32m    337\u001b[0m obj, end \u001b[39m=\u001b[39m \u001b[39mself\u001b[39m\u001b[39m.\u001b[39mraw_decode(s, idx\u001b[39m=\u001b[39m_w(s, \u001b[39m0\u001b[39m)\u001b[39m.\u001b[39mend())\n\u001b[0;32m--> 338\u001b[0m end \u001b[39m=\u001b[39m _w(s, end)\u001b[39m.\u001b[39mend()\n\u001b[1;32m    339\u001b[0m \u001b[39mif\u001b[39;00m end \u001b[39m!=\u001b[39m \u001b[39mlen\u001b[39m(s):\n\u001b[1;32m    340\u001b[0m     \u001b[39mraise\u001b[39;00m JSONDecodeError(\u001b[39m\"\u001b[39m\u001b[39mExtra data\u001b[39m\u001b[39m\"\u001b[39m, s, end)\n",
      "\u001b[0;31mKeyboardInterrupt\u001b[0m: "
     ]
    }
   ],
   "source": [
    "# Import Metadata about the Books into Pandas Df\n",
    "\n",
    "import gzip \n",
    "import json\n",
    "\n",
    "def parse(path):\n",
    "  g = gzip.open(path, 'r')\n",
    "  for l in g:\n",
    "    yield json.loads(l)\n",
    "\n",
    "def getDF(path):\n",
    "  i = 0\n",
    "  df = {}\n",
    "  for d in parse(path):\n",
    "    df[i] = d\n",
    "    i += 1\n",
    "  return pd.DataFrame.from_dict(df, orient='index')\n",
    "\n",
    "metadata = getDF('../data/books_meta.gz')"
   ]
  },
  {
   "cell_type": "code",
   "execution_count": null,
   "metadata": {},
   "outputs": [
    {
     "data": {
      "text/html": [
       "<div>\n",
       "<style scoped>\n",
       "    .dataframe tbody tr th:only-of-type {\n",
       "        vertical-align: middle;\n",
       "    }\n",
       "\n",
       "    .dataframe tbody tr th {\n",
       "        vertical-align: top;\n",
       "    }\n",
       "\n",
       "    .dataframe thead th {\n",
       "        text-align: right;\n",
       "    }\n",
       "</style>\n",
       "<table border=\"1\" class=\"dataframe\">\n",
       "  <thead>\n",
       "    <tr style=\"text-align: right;\">\n",
       "      <th></th>\n",
       "      <th>category</th>\n",
       "      <th>tech1</th>\n",
       "      <th>description</th>\n",
       "      <th>fit</th>\n",
       "      <th>title</th>\n",
       "      <th>also_buy</th>\n",
       "      <th>tech2</th>\n",
       "      <th>brand</th>\n",
       "      <th>feature</th>\n",
       "      <th>rank</th>\n",
       "      <th>also_view</th>\n",
       "      <th>main_cat</th>\n",
       "      <th>similar_item</th>\n",
       "      <th>date</th>\n",
       "      <th>price</th>\n",
       "      <th>asin</th>\n",
       "      <th>imageURL</th>\n",
       "      <th>imageURLHighRes</th>\n",
       "      <th>details</th>\n",
       "    </tr>\n",
       "  </thead>\n",
       "  <tbody>\n",
       "    <tr>\n",
       "      <th>0</th>\n",
       "      <td>[]</td>\n",
       "      <td></td>\n",
       "      <td>[It is a biology book with God&amp;apos;s perspect...</td>\n",
       "      <td></td>\n",
       "      <td>Biology Gods Living Creation Third Edition 10 ...</td>\n",
       "      <td>[0669009075, B000K2P5SA, B00MD4G2N0, B000ASIPT...</td>\n",
       "      <td></td>\n",
       "      <td>Keith Graham</td>\n",
       "      <td>[]</td>\n",
       "      <td>1,349,781 in Books (</td>\n",
       "      <td>[0019777701, B000AUCX7I, B000K2P5SA, B001CK63X...</td>\n",
       "      <td>Books</td>\n",
       "      <td></td>\n",
       "      <td></td>\n",
       "      <td>$39.94</td>\n",
       "      <td>0000092878</td>\n",
       "      <td>[]</td>\n",
       "      <td>[]</td>\n",
       "      <td>NaN</td>\n",
       "    </tr>\n",
       "    <tr>\n",
       "      <th>1</th>\n",
       "      <td>[Books, New, Used &amp; Rental Textbooks, Medicine...</td>\n",
       "      <td></td>\n",
       "      <td>[]</td>\n",
       "      <td></td>\n",
       "      <td>Mksap 16 Audio Companion: Medical Knowledge Se...</td>\n",
       "      <td>[]</td>\n",
       "      <td></td>\n",
       "      <td>Acp</td>\n",
       "      <td>[]</td>\n",
       "      <td>1,702,625 in Books (</td>\n",
       "      <td>[B01MUCYEV7, B01KUGTY6O]</td>\n",
       "      <td>Books</td>\n",
       "      <td></td>\n",
       "      <td></td>\n",
       "      <td></td>\n",
       "      <td>000047715X</td>\n",
       "      <td>[]</td>\n",
       "      <td>[]</td>\n",
       "      <td>NaN</td>\n",
       "    </tr>\n",
       "    <tr>\n",
       "      <th>2</th>\n",
       "      <td>[Books, Arts &amp; Photography, Music]</td>\n",
       "      <td></td>\n",
       "      <td>[Discography of American Punk, Hardcore, and P...</td>\n",
       "      <td></td>\n",
       "      <td>Flex! Discography of North American Punk, Hard...</td>\n",
       "      <td>[]</td>\n",
       "      <td></td>\n",
       "      <td>Burkhard Jarisch</td>\n",
       "      <td>[]</td>\n",
       "      <td>6,291,012 in Books (</td>\n",
       "      <td>[]</td>\n",
       "      <td>Books</td>\n",
       "      <td></td>\n",
       "      <td></td>\n",
       "      <td>$199.99</td>\n",
       "      <td>0000004545</td>\n",
       "      <td>[]</td>\n",
       "      <td>[]</td>\n",
       "      <td>NaN</td>\n",
       "    </tr>\n",
       "    <tr>\n",
       "      <th>3</th>\n",
       "      <td>[Books, Arts &amp; Photography, Music]</td>\n",
       "      <td></td>\n",
       "      <td>[This is a collection of classic gospel hymns ...</td>\n",
       "      <td></td>\n",
       "      <td>Heavenly Highway Hymns: Shaped-Note Hymnal</td>\n",
       "      <td>[]</td>\n",
       "      <td></td>\n",
       "      <td>Stamps/Baxter</td>\n",
       "      <td>[]</td>\n",
       "      <td>2,384,057 in Books (</td>\n",
       "      <td>[0006180116, 0996092730, B000QFOGY0, B06WWKNDL...</td>\n",
       "      <td>Books</td>\n",
       "      <td></td>\n",
       "      <td></td>\n",
       "      <td></td>\n",
       "      <td>0000013765</td>\n",
       "      <td>[]</td>\n",
       "      <td>[]</td>\n",
       "      <td>NaN</td>\n",
       "    </tr>\n",
       "    <tr>\n",
       "      <th>4</th>\n",
       "      <td>[]</td>\n",
       "      <td></td>\n",
       "      <td>[]</td>\n",
       "      <td></td>\n",
       "      <td>Georgina Goodman Nelson Womens Size 8.5 Purple...</td>\n",
       "      <td>[]</td>\n",
       "      <td></td>\n",
       "      <td></td>\n",
       "      <td>[]</td>\n",
       "      <td>11,735,726 in Books (</td>\n",
       "      <td>[]</td>\n",
       "      <td>Books</td>\n",
       "      <td></td>\n",
       "      <td></td>\n",
       "      <td>$164.10</td>\n",
       "      <td>0000000116</td>\n",
       "      <td>[]</td>\n",
       "      <td>[]</td>\n",
       "      <td>NaN</td>\n",
       "    </tr>\n",
       "  </tbody>\n",
       "</table>\n",
       "</div>"
      ],
      "text/plain": [
       "                                            category tech1  \\\n",
       "0                                                 []         \n",
       "1  [Books, New, Used & Rental Textbooks, Medicine...         \n",
       "2                 [Books, Arts & Photography, Music]         \n",
       "3                 [Books, Arts & Photography, Music]         \n",
       "4                                                 []         \n",
       "\n",
       "                                         description fit  \\\n",
       "0  [It is a biology book with God&apos;s perspect...       \n",
       "1                                                 []       \n",
       "2  [Discography of American Punk, Hardcore, and P...       \n",
       "3  [This is a collection of classic gospel hymns ...       \n",
       "4                                                 []       \n",
       "\n",
       "                                               title  \\\n",
       "0  Biology Gods Living Creation Third Edition 10 ...   \n",
       "1  Mksap 16 Audio Companion: Medical Knowledge Se...   \n",
       "2  Flex! Discography of North American Punk, Hard...   \n",
       "3         Heavenly Highway Hymns: Shaped-Note Hymnal   \n",
       "4  Georgina Goodman Nelson Womens Size 8.5 Purple...   \n",
       "\n",
       "                                            also_buy tech2             brand  \\\n",
       "0  [0669009075, B000K2P5SA, B00MD4G2N0, B000ASIPT...            Keith Graham   \n",
       "1                                                 []                     Acp   \n",
       "2                                                 []        Burkhard Jarisch   \n",
       "3                                                 []           Stamps/Baxter   \n",
       "4                                                 []                           \n",
       "\n",
       "  feature                   rank  \\\n",
       "0      []   1,349,781 in Books (   \n",
       "1      []   1,702,625 in Books (   \n",
       "2      []   6,291,012 in Books (   \n",
       "3      []   2,384,057 in Books (   \n",
       "4      []  11,735,726 in Books (   \n",
       "\n",
       "                                           also_view main_cat similar_item  \\\n",
       "0  [0019777701, B000AUCX7I, B000K2P5SA, B001CK63X...    Books                \n",
       "1                           [B01MUCYEV7, B01KUGTY6O]    Books                \n",
       "2                                                 []    Books                \n",
       "3  [0006180116, 0996092730, B000QFOGY0, B06WWKNDL...    Books                \n",
       "4                                                 []    Books                \n",
       "\n",
       "  date    price        asin imageURL imageURLHighRes details  \n",
       "0        $39.94  0000092878       []              []     NaN  \n",
       "1                000047715X       []              []     NaN  \n",
       "2       $199.99  0000004545       []              []     NaN  \n",
       "3                0000013765       []              []     NaN  \n",
       "4       $164.10  0000000116       []              []     NaN  "
      ]
     },
     "execution_count": 4,
     "metadata": {},
     "output_type": "execute_result"
    }
   ],
   "source": [
    "metadata.head()"
   ]
  },
  {
   "cell_type": "markdown",
   "metadata": {},
   "source": [
    "### Understanding the Chosen Algorithm"
   ]
  },
  {
   "cell_type": "markdown",
   "metadata": {},
   "source": [
    "\n",
    "![Recommender Systems, Categorized](../imgs/recommender_types.png)\n"
   ]
  },
  {
   "cell_type": "markdown",
   "metadata": {},
   "source": [
    "Recommender systems tend to come in two main flavors, each with their own advantages: collaborative filtering and content-based methods. And a more recent third approach that combines the best of both worlds.\n",
    "\n",
    "This project will be taking the collaborative filtering approach. It is a technique that can filter out items that a user might like on the basis of reactions by similar users. It works by searching a large group of people and finding a smaller set of users with tastes similar to a particular user. To get recommendations, it looks at the items they like and combines them to create a ranked list of suggestions.\n",
    "\n",
    "In summary, our approach is using an item-based collaborative filtering algorithm, that falls within the memory-based category of the larger family of collaborative filtering algorithms. This approach offers several advantages including scalability, accuracy and recommendations that are much easier to exaplin to users."
   ]
  },
  {
   "cell_type": "markdown",
   "metadata": {},
   "source": [
    "### Understanding the Data\n",
    "\n",
    "We'll be working with two datasets, one containing rows of ratings from users about a particular book (`books`) and another containing the metadata about all the books rated (`metadata`). \n",
    "\n",
    "The `books` dataset has rows of information in the form of `bookID userID rating timestamp`. This is the generally expected format for the data to be in for collaborative filtering based recommender algorithms. \n",
    "\n",
    "The `metadata` dataset has information about each book that was recommended, which include the following: \n",
    "- `asin` - ID of the product, e.g. 0000031852\n",
    "- `title` - name of the product\n",
    "- `feature` - bullet-point format features of the product\n",
    "- `description` - description of the product\n",
    "- `price` - price in US dollars (at time of crawl)\n",
    "- `imageURL` - url of the product image\n",
    "- `imageURLHighRes` - url of the high resolution product image\n",
    "- related - related products (also bought, also viewed, bought together, buy after viewing)\n",
    "- `rank` - sales rank information\n",
    "- `brand` - brand name\n",
    "- `category` - list of categories the product belongs to\n",
    "- `tech1` - the first technical detail table of the product\n",
    "- `tech2` - the second technical detail table of the product\n",
    "- `similar_item` - similar product table"
   ]
  },
  {
   "cell_type": "markdown",
   "metadata": {},
   "source": [
    "### Data Wrangling"
   ]
  },
  {
   "cell_type": "code",
   "execution_count": null,
   "metadata": {},
   "outputs": [
    {
     "data": {
      "text/html": [
       "<div>\n",
       "<style scoped>\n",
       "    .dataframe tbody tr th:only-of-type {\n",
       "        vertical-align: middle;\n",
       "    }\n",
       "\n",
       "    .dataframe tbody tr th {\n",
       "        vertical-align: top;\n",
       "    }\n",
       "\n",
       "    .dataframe thead th {\n",
       "        text-align: right;\n",
       "    }\n",
       "</style>\n",
       "<table border=\"1\" class=\"dataframe\">\n",
       "  <thead>\n",
       "    <tr style=\"text-align: right;\">\n",
       "      <th></th>\n",
       "      <th>bookID</th>\n",
       "      <th>userID</th>\n",
       "      <th>rating</th>\n",
       "      <th>timestamp</th>\n",
       "    </tr>\n",
       "  </thead>\n",
       "  <tbody>\n",
       "    <tr>\n",
       "      <th>0</th>\n",
       "      <td>0001713353</td>\n",
       "      <td>A1REUF3A1YCPHM</td>\n",
       "      <td>5.0</td>\n",
       "      <td>1112140800</td>\n",
       "    </tr>\n",
       "    <tr>\n",
       "      <th>1</th>\n",
       "      <td>0001713353</td>\n",
       "      <td>A1YRBRK2XM5D5</td>\n",
       "      <td>5.0</td>\n",
       "      <td>1081036800</td>\n",
       "    </tr>\n",
       "    <tr>\n",
       "      <th>2</th>\n",
       "      <td>0001713353</td>\n",
       "      <td>A1V8ZR5P78P4ZU</td>\n",
       "      <td>5.0</td>\n",
       "      <td>1077321600</td>\n",
       "    </tr>\n",
       "    <tr>\n",
       "      <th>3</th>\n",
       "      <td>0001713353</td>\n",
       "      <td>A2ZB06582NXCIV</td>\n",
       "      <td>5.0</td>\n",
       "      <td>1475452800</td>\n",
       "    </tr>\n",
       "    <tr>\n",
       "      <th>4</th>\n",
       "      <td>0001713353</td>\n",
       "      <td>ACPQVNRD3Z09X</td>\n",
       "      <td>5.0</td>\n",
       "      <td>1469750400</td>\n",
       "    </tr>\n",
       "  </tbody>\n",
       "</table>\n",
       "</div>"
      ],
      "text/plain": [
       "       bookID          userID  rating   timestamp\n",
       "0  0001713353  A1REUF3A1YCPHM     5.0  1112140800\n",
       "1  0001713353   A1YRBRK2XM5D5     5.0  1081036800\n",
       "2  0001713353  A1V8ZR5P78P4ZU     5.0  1077321600\n",
       "3  0001713353  A2ZB06582NXCIV     5.0  1475452800\n",
       "4  0001713353   ACPQVNRD3Z09X     5.0  1469750400"
      ]
     },
     "execution_count": 5,
     "metadata": {},
     "output_type": "execute_result"
    }
   ],
   "source": [
    "# Add column headings to `books` df for clarification\n",
    "books1 = books.set_axis(['bookID', 'userID', 'rating', 'timestamp'], axis=1)\n",
    "books1.head()"
   ]
  },
  {
   "cell_type": "code",
   "execution_count": null,
   "metadata": {},
   "outputs": [
    {
     "data": {
      "text/plain": [
       "(51311620, 4)"
      ]
     },
     "execution_count": 6,
     "metadata": {},
     "output_type": "execute_result"
    }
   ],
   "source": [
    "# Get the shape of the `books` dataset\n",
    "books1.shape"
   ]
  },
  {
   "cell_type": "code",
   "execution_count": null,
   "metadata": {},
   "outputs": [
    {
     "data": {
      "text/html": [
       "<div>\n",
       "<style scoped>\n",
       "    .dataframe tbody tr th:only-of-type {\n",
       "        vertical-align: middle;\n",
       "    }\n",
       "\n",
       "    .dataframe tbody tr th {\n",
       "        vertical-align: top;\n",
       "    }\n",
       "\n",
       "    .dataframe thead th {\n",
       "        text-align: right;\n",
       "    }\n",
       "</style>\n",
       "<table border=\"1\" class=\"dataframe\">\n",
       "  <thead>\n",
       "    <tr style=\"text-align: right;\">\n",
       "      <th></th>\n",
       "      <th>rating</th>\n",
       "      <th>timestamp</th>\n",
       "    </tr>\n",
       "  </thead>\n",
       "  <tbody>\n",
       "    <tr>\n",
       "      <th>count</th>\n",
       "      <td>5.131162e+07</td>\n",
       "      <td>5.131162e+07</td>\n",
       "    </tr>\n",
       "    <tr>\n",
       "      <th>mean</th>\n",
       "      <td>4.393247e+00</td>\n",
       "      <td>1.398793e+09</td>\n",
       "    </tr>\n",
       "    <tr>\n",
       "      <th>std</th>\n",
       "      <td>1.045411e+00</td>\n",
       "      <td>1.110580e+08</td>\n",
       "    </tr>\n",
       "    <tr>\n",
       "      <th>min</th>\n",
       "      <td>0.000000e+00</td>\n",
       "      <td>8.325504e+08</td>\n",
       "    </tr>\n",
       "    <tr>\n",
       "      <th>25%</th>\n",
       "      <td>4.000000e+00</td>\n",
       "      <td>1.368922e+09</td>\n",
       "    </tr>\n",
       "    <tr>\n",
       "      <th>50%</th>\n",
       "      <td>5.000000e+00</td>\n",
       "      <td>1.423699e+09</td>\n",
       "    </tr>\n",
       "    <tr>\n",
       "      <th>75%</th>\n",
       "      <td>5.000000e+00</td>\n",
       "      <td>1.472170e+09</td>\n",
       "    </tr>\n",
       "    <tr>\n",
       "      <th>max</th>\n",
       "      <td>5.000000e+00</td>\n",
       "      <td>1.538438e+09</td>\n",
       "    </tr>\n",
       "  </tbody>\n",
       "</table>\n",
       "</div>"
      ],
      "text/plain": [
       "             rating     timestamp\n",
       "count  5.131162e+07  5.131162e+07\n",
       "mean   4.393247e+00  1.398793e+09\n",
       "std    1.045411e+00  1.110580e+08\n",
       "min    0.000000e+00  8.325504e+08\n",
       "25%    4.000000e+00  1.368922e+09\n",
       "50%    5.000000e+00  1.423699e+09\n",
       "75%    5.000000e+00  1.472170e+09\n",
       "max    5.000000e+00  1.538438e+09"
      ]
     },
     "execution_count": 7,
     "metadata": {},
     "output_type": "execute_result"
    }
   ],
   "source": [
    "# Get Descriptive Statistics\n",
    "books1.describe()"
   ]
  },
  {
   "cell_type": "code",
   "execution_count": null,
   "metadata": {},
   "outputs": [
    {
     "ename": "NameError",
     "evalue": "name 'books1' is not defined",
     "output_type": "error",
     "traceback": [
      "\u001b[0;31m---------------------------------------------------------------------------\u001b[0m",
      "\u001b[0;31mNameError\u001b[0m                                 Traceback (most recent call last)",
      "\u001b[1;32m/Users/kylerodriguez/Desktop/Springboard Data Science Track/amazon-recommender/notebooks/01-kar-data-wrangling-and-eda.ipynb Cell 14\u001b[0m line \u001b[0;36m1\n\u001b[0;32m----> <a href='vscode-notebook-cell:/Users/kylerodriguez/Desktop/Springboard%20Data%20Science%20Track/amazon-recommender/notebooks/01-kar-data-wrangling-and-eda.ipynb#X32sZmlsZQ%3D%3D?line=0'>1</a>\u001b[0m books1\u001b[39m.\u001b[39muserID\u001b[39m.\u001b[39misnull()\n",
      "\u001b[0;31mNameError\u001b[0m: name 'books1' is not defined"
     ]
    }
   ],
   "source": [
    "books1.userID.isnull()"
   ]
  },
  {
   "cell_type": "markdown",
   "metadata": {},
   "source": [
    "## Exploratory Data Analysis"
   ]
  },
  {
   "cell_type": "markdown",
   "metadata": {},
   "source": [
    "How many unique users and unique books are in the dataset?"
   ]
  },
  {
   "cell_type": "code",
   "execution_count": null,
   "metadata": {},
   "outputs": [],
   "source": [
    "# Count number of Unique Users and Books\n",
    "unique_users = books1.userID.nunique()\n",
    "unique_books = books1.bookID.nunique()"
   ]
  },
  {
   "cell_type": "code",
   "execution_count": null,
   "metadata": {},
   "outputs": [
    {
     "name": "stdout",
     "output_type": "stream",
     "text": [
      "There are 2930451 unique books rated by 15362619 unique users.\n",
      "In total, there are 51311620 total reviews.\n"
     ]
    }
   ],
   "source": [
    "print(f\"There are {unique_books} unique books rated by {unique_users} unique users.\")\n",
    "print(f\"In total, there are {books1.shape[0]} total reviews.\")"
   ]
  },
  {
   "cell_type": "markdown",
   "metadata": {},
   "source": [
    "What is the average number of books that a user rated?"
   ]
  },
  {
   "cell_type": "code",
   "execution_count": null,
   "metadata": {},
   "outputs": [],
   "source": [
    "avg_num_ratings = books1.groupby('userID').size().mean()"
   ]
  },
  {
   "cell_type": "code",
   "execution_count": null,
   "metadata": {},
   "outputs": [
    {
     "name": "stdout",
     "output_type": "stream",
     "text": [
      "The average number of books a user rated was 3.34 books.\n"
     ]
    }
   ],
   "source": [
    "print(f\"The average number of books a user rated was {round(avg_num_ratings, 2)} books.\")"
   ]
  },
  {
   "cell_type": "markdown",
   "metadata": {},
   "source": [
    "What is the average number of ratings each book got?"
   ]
  },
  {
   "cell_type": "code",
   "execution_count": null,
   "metadata": {},
   "outputs": [
    {
     "name": "stdout",
     "output_type": "stream",
     "text": [
      "The average number of ratings each book received was 17.51\n"
     ]
    }
   ],
   "source": [
    "ratings_per_book = books1.groupby('bookID').size().mean()\n",
    "print(f\"The average number of ratings each book received was {round(ratings_per_book, 2)}\")"
   ]
  },
  {
   "cell_type": "code",
   "execution_count": null,
   "metadata": {},
   "outputs": [],
   "source": []
  }
 ],
 "metadata": {
  "kernelspec": {
   "display_name": "book-recommender",
   "language": "python",
   "name": "python3"
  },
  "language_info": {
   "codemirror_mode": {
    "name": "ipython",
    "version": 3
   },
   "file_extension": ".py",
   "mimetype": "text/x-python",
   "name": "python",
   "nbconvert_exporter": "python",
   "pygments_lexer": "ipython3",
   "version": "3.12.0"
  }
 },
 "nbformat": 4,
 "nbformat_minor": 2
}
