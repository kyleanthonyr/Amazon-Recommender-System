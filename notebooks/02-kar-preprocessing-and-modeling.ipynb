{
 "cells": [
  {
   "cell_type": "markdown",
   "metadata": {},
   "source": [
    "### Recommendation System\n",
    "\n",
    "1. Downsampled to about 32k rows using about 5k unique books(this was the limit for processing by `Surprise` algos)\n",
    "2. Trained several baseline models and evaluated using the MAE and RMSE metrics\n",
    "3. Performed GridSearch to find the best hyperparameters for the top 2 baseline models\n",
    "4. Chose best optimized model of the 2\n",
    "5. Used best model to get top-n recommendations for user \n",
    "6. Defined helper functions to make my life easier\n",
    "7. Imported metadata to get info on top-5 recommended books for a random user\n",
    "\n",
    "Final output was a dataframe containing the title, price, description, book ID and predicted rating for a random user.\n",
    "Happy with results.\n",
    "\n",
    "\n",
    "### Future Next Steps\n",
    "\n",
    "* Convert into an API endpoint for a possible Flask application to provide a web interface to try out recommendation system.\n",
    "\n",
    "\n",
    "\n"
   ]
  },
  {
   "cell_type": "markdown",
   "metadata": {},
   "source": [
    "<hr>"
   ]
  },
  {
   "cell_type": "markdown",
   "metadata": {},
   "source": [
    "Import libraries"
   ]
  },
  {
   "cell_type": "code",
   "execution_count": 1,
   "metadata": {},
   "outputs": [],
   "source": [
    "import pandas as pd\n",
    "from pyspark.sql import SparkSession\n",
    "from pyspark.sql.types import StructType, IntegerType, FloatType, StringType, LongType\n",
    "from pyspark.sql.functions import col\n",
    "\n",
    "from surprise import Reader, Dataset, SVD, NMF, accuracy\n",
    "from surprise.model_selection import train_test_split, cross_validate, GridSearchCV\n",
    "from surprise import KNNBasic, KNNBaseline, KNNWithMeans\n",
    "from surprise.prediction_algorithms.slope_one import SlopeOne\n",
    "\n",
    "import sys\n",
    "sys.path.append(\"..\")\n",
    "from utils import *"
   ]
  },
  {
   "cell_type": "markdown",
   "metadata": {},
   "source": [
    "Create SparkSession"
   ]
  },
  {
   "cell_type": "code",
   "execution_count": 2,
   "metadata": {},
   "outputs": [
    {
     "name": "stderr",
     "output_type": "stream",
     "text": [
      "Setting default log level to \"WARN\".\n",
      "To adjust logging level use sc.setLogLevel(newLevel). For SparkR, use setLogLevel(newLevel).\n",
      "23/12/11 09:01:24 WARN NativeCodeLoader: Unable to load native-hadoop library for your platform... using builtin-java classes where applicable\n"
     ]
    },
    {
     "data": {
      "text/html": [
       "\n",
       "            <div>\n",
       "                <p><b>SparkSession - in-memory</b></p>\n",
       "                \n",
       "        <div>\n",
       "            <p><b>SparkContext</b></p>\n",
       "\n",
       "            <p><a href=\"http://kyles-mbp.attlocal.net:4040\">Spark UI</a></p>\n",
       "\n",
       "            <dl>\n",
       "              <dt>Version</dt>\n",
       "                <dd><code>v3.5.0</code></dd>\n",
       "              <dt>Master</dt>\n",
       "                <dd><code>local[6]</code></dd>\n",
       "              <dt>AppName</dt>\n",
       "                <dd><code>Book Ratings</code></dd>\n",
       "            </dl>\n",
       "        </div>\n",
       "        \n",
       "            </div>\n",
       "        "
      ],
      "text/plain": [
       "<pyspark.sql.session.SparkSession at 0x13f00a600>"
      ]
     },
     "execution_count": 2,
     "metadata": {},
     "output_type": "execute_result"
    }
   ],
   "source": [
    "spark = SparkSession.builder.master(\"local[6]\").appName('Book Ratings')\\\n",
    "                            .config('spark.executor.memory', '8g')\\\n",
    "                            .config('spark.driver.memory', '4g')\\\n",
    "                            .getOrCreate()\n",
    "spark"
   ]
  },
  {
   "cell_type": "markdown",
   "metadata": {},
   "source": [
    "Import Dataset into Spark DF"
   ]
  },
  {
   "cell_type": "code",
   "execution_count": 3,
   "metadata": {},
   "outputs": [],
   "source": [
    "# Get underlying Spark Context\n",
    "sc = spark.sparkContext"
   ]
  },
  {
   "cell_type": "code",
   "execution_count": 4,
   "metadata": {},
   "outputs": [],
   "source": [
    "# define new schema\n",
    "schema = StructType()\\\n",
    "        .add('bookID', IntegerType(), nullable=False)\\\n",
    "        .add('userID', StringType(), nullable=False)\\\n",
    "        .add('rating', FloatType(), nullable=False)\\\n",
    "        .add('timestamp', LongType(), nullable=False)"
   ]
  },
  {
   "cell_type": "code",
   "execution_count": 5,
   "metadata": {},
   "outputs": [
    {
     "data": {
      "text/plain": [
       "Row(bookID=1713353, userID='A1C6M8LCIX4M6M', rating=5.0, timestamp=1123804800)"
      ]
     },
     "execution_count": 5,
     "metadata": {},
     "output_type": "execute_result"
    }
   ],
   "source": [
    "# Import data into PySpark DF\n",
    "books = spark.read.format('csv').schema(schema).load('../data/Books.csv')\n",
    "books.head()"
   ]
  },
  {
   "cell_type": "code",
   "execution_count": 6,
   "metadata": {},
   "outputs": [
    {
     "name": "stdout",
     "output_type": "stream",
     "text": [
      "root\n",
      " |-- bookID: integer (nullable = true)\n",
      " |-- userID: string (nullable = true)\n",
      " |-- rating: float (nullable = true)\n",
      " |-- timestamp: long (nullable = true)\n",
      "\n"
     ]
    }
   ],
   "source": [
    "# Verify data types\n",
    "books.printSchema()"
   ]
  },
  {
   "cell_type": "markdown",
   "metadata": {},
   "source": [
    "The data is returned in the format `(int(bookID), str(userID), float(rating), long(timestamp))`.\n",
    "\n",
    "To parse into a `PySpark` `Rating` object, it is expected to be in the format `(int(userID), int(bookID), float(rating), long(timestamp))`."
   ]
  },
  {
   "cell_type": "markdown",
   "metadata": {},
   "source": [
    "<hr>"
   ]
  },
  {
   "cell_type": "markdown",
   "metadata": {},
   "source": [
    "### Check for `NoneType` Values"
   ]
  },
  {
   "cell_type": "code",
   "execution_count": 7,
   "metadata": {},
   "outputs": [
    {
     "name": "stderr",
     "output_type": "stream",
     "text": [
      "[Stage 1:=====================================================>   (15 + 1) / 16]\r"
     ]
    },
    {
     "name": "stdout",
     "output_type": "stream",
     "text": [
      "The DF has at least 6671993 rows with a None value.\n"
     ]
    },
    {
     "name": "stderr",
     "output_type": "stream",
     "text": [
      "                                                                                \r"
     ]
    }
   ],
   "source": [
    "# Check for None values in the DF\n",
    "none_count = books.filter(\n",
    "    (col(\"bookID\").isNull()) |\n",
    "    (col(\"userID\").isNull()) |\n",
    "    (col(\"rating\").isNull()) |\n",
    "    (col(\"timestamp\").isNull())\n",
    ").count()\n",
    "has_none_values = none_count > 0\n",
    "\n",
    "# Print the result\n",
    "if has_none_values:\n",
    "    print(f\"The DF has at least {none_count} rows with a None value.\")\n",
    "else:\n",
    "    print(\"The DF does not have any rows with None values.\")"
   ]
  },
  {
   "cell_type": "code",
   "execution_count": 8,
   "metadata": {},
   "outputs": [
    {
     "data": {
      "text/plain": [
       "[Row(bookID=None, userID='ASS457AQPDIFZ', rating=5.0, timestamp=1409443200),\n",
       " Row(bookID=None, userID='A3NMH1KTLG7CWX', rating=5.0, timestamp=1398816000),\n",
       " Row(bookID=None, userID='A2LI5026JCXQBA', rating=4.0, timestamp=1398729600),\n",
       " Row(bookID=None, userID='AHNMXYVRDN1R9', rating=5.0, timestamp=1394323200),\n",
       " Row(bookID=None, userID='A2CAVTNQA2Y3IJ', rating=5.0, timestamp=1384560000),\n",
       " Row(bookID=None, userID='A2685NTFXLJJ1T', rating=5.0, timestamp=1377475200),\n",
       " Row(bookID=None, userID='A17TBLPM7H401J', rating=4.0, timestamp=1374364800),\n",
       " Row(bookID=None, userID='A1840OJGNFSBSN', rating=5.0, timestamp=900460800),\n",
       " Row(bookID=None, userID='A3ONKN7GMHG6K2', rating=5.0, timestamp=1400630400),\n",
       " Row(bookID=None, userID='A4LSI6PTX23BE', rating=5.0, timestamp=1400284800)]"
      ]
     },
     "execution_count": 8,
     "metadata": {},
     "output_type": "execute_result"
    }
   ],
   "source": [
    "# Verify what rows with None values look like\n",
    "none_df = books.filter(\n",
    "    (col('bookID').isNull()) |\n",
    "    (col('userID').isNull()) |\n",
    "    (col('rating').isNull()) |\n",
    "    (col('timestamp').isNull())\n",
    ")\n",
    "none_df.take(10)"
   ]
  },
  {
   "cell_type": "markdown",
   "metadata": {},
   "source": [
    "The number of rows with missing values represent about 13% of the entire dataset.   \n",
    "Since there isn't a straightforward way of handling the missing values without affecting the results of the recommendations, the rows will simply be dropped."
   ]
  },
  {
   "cell_type": "code",
   "execution_count": 9,
   "metadata": {},
   "outputs": [],
   "source": [
    "# Drop missing values\n",
    "books = books.dropna()\n",
    "\n",
    "# Verify count\n",
    "# books.count()"
   ]
  },
  {
   "cell_type": "markdown",
   "metadata": {},
   "source": [
    "After dropping rows with missing values, we still have around ~44.6M rows of data left to work with."
   ]
  },
  {
   "cell_type": "markdown",
   "metadata": {},
   "source": [
    "<hr>"
   ]
  },
  {
   "cell_type": "markdown",
   "metadata": {},
   "source": [
    "### Subset Dataset based on Books Titles\n",
    "Due to the large size of the dataset and processing issues, the dataset will be downsampled to about 100,000 rows based on books.\n",
    "\n",
    "**Rationale**:\n",
    "Since each book on average received about 17 distinct ratings, downsampling the dataset to about 100,000 rows will require about 5000 unique books.  \n",
    "This is still a large dataset and should be able to return decent results for our recommendation engine."
   ]
  },
  {
   "cell_type": "markdown",
   "metadata": {},
   "source": [
    "Convert DF to RDD for Mapping UserIDs"
   ]
  },
  {
   "cell_type": "code",
   "execution_count": 10,
   "metadata": {},
   "outputs": [
    {
     "name": "stderr",
     "output_type": "stream",
     "text": [
      "                                                                                \r"
     ]
    },
    {
     "data": {
      "text/plain": [
       "[1713353, 'A1C6M8LCIX4M6M', 5.0, 1123804800]"
      ]
     },
     "execution_count": 10,
     "metadata": {},
     "output_type": "execute_result"
    }
   ],
   "source": [
    "# Convert DF to RDD \n",
    "books_rdd = books.rdd.map(list)\n",
    "books_rdd.first()"
   ]
  },
  {
   "cell_type": "code",
   "execution_count": 11,
   "metadata": {},
   "outputs": [
    {
     "data": {
      "text/plain": [
       "1713353"
      ]
     },
     "execution_count": 11,
     "metadata": {},
     "output_type": "execute_result"
    }
   ],
   "source": [
    "# Get all book IDs\n",
    "book_ids = books_rdd.map(lambda x: x[0])\n",
    "\n",
    "# Verify result\n",
    "book_ids.first()\n",
    "\n"
   ]
  },
  {
   "cell_type": "markdown",
   "metadata": {},
   "source": [
    "Get all unique bookIDs for mapping."
   ]
  },
  {
   "cell_type": "code",
   "execution_count": 12,
   "metadata": {},
   "outputs": [
    {
     "name": "stderr",
     "output_type": "stream",
     "text": [
      "Java HotSpot(TM) 64-Bit Server VM warning: CodeCache is full. Compiler has been disabled.\n",
      "Java HotSpot(TM) 64-Bit Server VM warning: Try increasing the code cache size using -XX:ReservedCodeCacheSize=\n"
     ]
    },
    {
     "name": "stdout",
     "output_type": "stream",
     "text": [
      "CodeCache: size=131072Kb used=20201Kb max_used=20217Kb free=110870Kb\n",
      " bounds [0x000000010a9e0000, 0x000000010bdc0000, 0x00000001129e0000]\n",
      " total_blobs=8522 nmethods=7574 adapters=861\n",
      " compilation: disabled (not enough contiguous free space left)\n"
     ]
    },
    {
     "name": "stderr",
     "output_type": "stream",
     "text": [
      "[Stage 7:=====================================================>   (15 + 1) / 16]\r"
     ]
    },
    {
     "name": "stdout",
     "output_type": "stream",
     "text": [
      "There are 2266596 total books in the dataset.\n"
     ]
    },
    {
     "name": "stderr",
     "output_type": "stream",
     "text": [
      "                                                                                \r"
     ]
    }
   ],
   "source": [
    "# Get all unique book IDs\n",
    "book_ids = book_ids.distinct()\n",
    "\n",
    "# Count total book titles \n",
    "total_books = book_ids.count()\n",
    "\n",
    "print(f\"There are {total_books} total books in the dataset.\")"
   ]
  },
  {
   "cell_type": "code",
   "execution_count": 13,
   "metadata": {},
   "outputs": [],
   "source": [
    "# Get a Random Sample of 5k books from list of unique books IDs\n",
    "book_ids_5k = book_ids.sample(withReplacement=False, fraction=0.0008, seed=42)"
   ]
  },
  {
   "cell_type": "code",
   "execution_count": 1,
   "metadata": {},
   "outputs": [
    {
     "ename": "NameError",
     "evalue": "name 'book_ids_5k' is not defined",
     "output_type": "error",
     "traceback": [
      "\u001b[0;31m---------------------------------------------------------------------------\u001b[0m",
      "\u001b[0;31mNameError\u001b[0m                                 Traceback (most recent call last)",
      "\u001b[1;32m/Users/kylerodriguez/Desktop/Springboard Data Science Track/amazon-recommender/notebooks/02-kar-preprocessing-and-modeling.ipynb Cell 28\u001b[0m line \u001b[0;36m1\n\u001b[0;32m----> <a href='vscode-notebook-cell:/Users/kylerodriguez/Desktop/Springboard%20Data%20Science%20Track/amazon-recommender/notebooks/02-kar-preprocessing-and-modeling.ipynb#Y145sZmlsZQ%3D%3D?line=0'>1</a>\u001b[0m book_ids_5k\u001b[39m.\u001b[39mcount()\n",
      "\u001b[0;31mNameError\u001b[0m: name 'book_ids_5k' is not defined"
     ]
    }
   ],
   "source": [
    "book_ids_5k.count()"
   ]
  },
  {
   "cell_type": "code",
   "execution_count": 14,
   "metadata": {},
   "outputs": [],
   "source": [
    "# Broadcast values to nodes and perform collect transformation to be used in filter\n",
    "broadcasted_book_ids = sc.broadcast(set(book_ids_5k.collect()))"
   ]
  },
  {
   "cell_type": "code",
   "execution_count": 15,
   "metadata": {},
   "outputs": [],
   "source": [
    "books_5k = books_rdd.filter(lambda x: x[0] in broadcasted_book_ids.value)"
   ]
  },
  {
   "cell_type": "code",
   "execution_count": 16,
   "metadata": {},
   "outputs": [
    {
     "name": "stderr",
     "output_type": "stream",
     "text": [
      "                                                                                \r"
     ]
    },
    {
     "data": {
      "text/plain": [
       "32515"
      ]
     },
     "execution_count": 16,
     "metadata": {},
     "output_type": "execute_result"
    }
   ],
   "source": [
    "books_5k.count()"
   ]
  },
  {
   "cell_type": "markdown",
   "metadata": {},
   "source": [
    "After successfully filtering, the dataset has been reduced to just over 32k rows, and was downsampled based on the book IDs as opposed to the user IDs. "
   ]
  },
  {
   "cell_type": "code",
   "execution_count": 17,
   "metadata": {},
   "outputs": [
    {
     "name": "stderr",
     "output_type": "stream",
     "text": [
      "                                                                                \r"
     ]
    }
   ],
   "source": [
    "# Convert first to Spark DF\n",
    "books_5k_df = books_5k.toDF()\n",
    "\n",
    "# Then convert to Pandas DF from use with the Surprise library\n",
    "books_pandas_df = books_5k_df.toPandas()"
   ]
  },
  {
   "cell_type": "code",
   "execution_count": 18,
   "metadata": {},
   "outputs": [
    {
     "data": {
      "text/html": [
       "<div>\n",
       "<style scoped>\n",
       "    .dataframe tbody tr th:only-of-type {\n",
       "        vertical-align: middle;\n",
       "    }\n",
       "\n",
       "    .dataframe tbody tr th {\n",
       "        vertical-align: top;\n",
       "    }\n",
       "\n",
       "    .dataframe thead th {\n",
       "        text-align: right;\n",
       "    }\n",
       "</style>\n",
       "<table border=\"1\" class=\"dataframe\">\n",
       "  <thead>\n",
       "    <tr style=\"text-align: right;\">\n",
       "      <th></th>\n",
       "      <th>_1</th>\n",
       "      <th>_2</th>\n",
       "      <th>_3</th>\n",
       "      <th>_4</th>\n",
       "    </tr>\n",
       "  </thead>\n",
       "  <tbody>\n",
       "    <tr>\n",
       "      <th>0</th>\n",
       "      <td>1472933</td>\n",
       "      <td>A3V9X42L3AI67I</td>\n",
       "      <td>5.0</td>\n",
       "      <td>1360627200</td>\n",
       "    </tr>\n",
       "    <tr>\n",
       "      <th>1</th>\n",
       "      <td>1472933</td>\n",
       "      <td>AG7E2YAPMFJVL</td>\n",
       "      <td>3.0</td>\n",
       "      <td>1358640000</td>\n",
       "    </tr>\n",
       "    <tr>\n",
       "      <th>2</th>\n",
       "      <td>1472933</td>\n",
       "      <td>ARFK2WYVYT1QQ</td>\n",
       "      <td>5.0</td>\n",
       "      <td>1347321600</td>\n",
       "    </tr>\n",
       "    <tr>\n",
       "      <th>3</th>\n",
       "      <td>1472933</td>\n",
       "      <td>AO93WR5UAFA6F</td>\n",
       "      <td>5.0</td>\n",
       "      <td>1247788800</td>\n",
       "    </tr>\n",
       "    <tr>\n",
       "      <th>4</th>\n",
       "      <td>1472933</td>\n",
       "      <td>A1O5WPLJSI7Y1B</td>\n",
       "      <td>5.0</td>\n",
       "      <td>1233532800</td>\n",
       "    </tr>\n",
       "  </tbody>\n",
       "</table>\n",
       "</div>"
      ],
      "text/plain": [
       "        _1              _2   _3          _4\n",
       "0  1472933  A3V9X42L3AI67I  5.0  1360627200\n",
       "1  1472933   AG7E2YAPMFJVL  3.0  1358640000\n",
       "2  1472933   ARFK2WYVYT1QQ  5.0  1347321600\n",
       "3  1472933   AO93WR5UAFA6F  5.0  1247788800\n",
       "4  1472933  A1O5WPLJSI7Y1B  5.0  1233532800"
      ]
     },
     "execution_count": 18,
     "metadata": {},
     "output_type": "execute_result"
    }
   ],
   "source": [
    "books_pandas_df.head()"
   ]
  },
  {
   "cell_type": "markdown",
   "metadata": {},
   "source": [
    "### Build Recommender System with Python's Surprise Library\n",
    "\n",
    "The data is returned in the format `(bookID, userID, rating, timestamp)`. \n",
    "To parse into a `Surprise` dataframe, it is expected to be in the format `(userID, bookID, rating, timestamp)`."
   ]
  },
  {
   "cell_type": "code",
   "execution_count": 19,
   "metadata": {},
   "outputs": [],
   "source": [
    "# Provide column headings to dataframe\n",
    "books_5k = books_pandas_df.set_axis(['bookID', 'userID', 'rating', 'timestamp'], axis=1)"
   ]
  },
  {
   "cell_type": "code",
   "execution_count": 20,
   "metadata": {},
   "outputs": [],
   "source": [
    "# Subset just user ID, book ID and ratings (out of 5 stars)\n",
    "books_5k = books_5k[['userID', 'bookID', 'rating', 'timestamp']]"
   ]
  },
  {
   "cell_type": "code",
   "execution_count": 21,
   "metadata": {},
   "outputs": [
    {
     "data": {
      "text/plain": [
       "pandas.core.frame.DataFrame"
      ]
     },
     "execution_count": 21,
     "metadata": {},
     "output_type": "execute_result"
    }
   ],
   "source": [
    "type(books_5k)"
   ]
  },
  {
   "cell_type": "markdown",
   "metadata": {},
   "source": [
    "Now the pandas dataframe is in an acceptable format to be used by Suprise's algorithms."
   ]
  },
  {
   "cell_type": "code",
   "execution_count": 22,
   "metadata": {},
   "outputs": [],
   "source": [
    "# Import data into a Surprise DF\n",
    "reader = Reader(rating_scale=(1.0, 5.0))\n",
    "data_5k = Dataset.load_from_df(books_5k[['userID', 'bookID', 'rating']], reader=reader)"
   ]
  },
  {
   "cell_type": "markdown",
   "metadata": {},
   "source": [
    "### Baseline Models"
   ]
  },
  {
   "cell_type": "code",
   "execution_count": 23,
   "metadata": {},
   "outputs": [],
   "source": [
    "# Perform train test split\n",
    "trainset_5k, testset_5k = train_test_split(data_5k, test_size=0.2)"
   ]
  },
  {
   "cell_type": "code",
   "execution_count": 24,
   "metadata": {},
   "outputs": [],
   "source": [
    "# Configure sim options for KNN based models\n",
    "sim_options = {\n",
    "    'name': 'msd',\n",
    "    'min_support': 15,\n",
    "    'user_based': False\n",
    "}"
   ]
  },
  {
   "cell_type": "code",
   "execution_count": 25,
   "metadata": {},
   "outputs": [],
   "source": [
    "def predict_model(evaluator, *args, trainset=trainset_5k, testset=testset_5k):\n",
    "    '''Create model, fit, predict and return RMSE for provided models'''\n",
    "    # Get name of model\n",
    "    name = evaluator.__name__\n",
    "\n",
    "    # Instantiate model\n",
    "    if \"KNN\" in name:\n",
    "        model = evaluator(sim_options=args[0])\n",
    "    else:\n",
    "        model = evaluator()\n",
    "\n",
    "    # Fit trainset\n",
    "    model.fit(trainset)\n",
    "\n",
    "    # Predict on testset\n",
    "    preds = model.test(testset)\n",
    "\n",
    "    # Get RMSe\n",
    "    rmse = accuracy.rmse(preds)\n",
    "\n",
    "    # Get MAEs\n",
    "    mae = accuracy.mae(preds)\n",
    "\n",
    "    return {'Model name': name, \"RMSE\": rmse, \"MAE\": mae }"
   ]
  },
  {
   "cell_type": "code",
   "execution_count": 26,
   "metadata": {},
   "outputs": [
    {
     "name": "stdout",
     "output_type": "stream",
     "text": [
      "RMSE: 0.9671\n",
      "MAE:  0.7124\n",
      "RMSE: 1.0217\n",
      "MAE:  0.7863\n",
      "RMSE: 1.0195\n",
      "MAE:  0.7800\n",
      "Computing the msd similarity matrix...\n",
      "Done computing similarity matrix.\n",
      "RMSE: 1.0173\n",
      "MAE:  0.7812\n",
      "Computing the msd similarity matrix...\n",
      "Done computing similarity matrix.\n",
      "RMSE: 1.0157\n",
      "MAE:  0.7794\n",
      "Estimating biases using als...\n",
      "Computing the msd similarity matrix...\n",
      "Done computing similarity matrix.\n",
      "RMSE: 0.9667\n",
      "MAE:  0.7134\n"
     ]
    }
   ],
   "source": [
    "models = [SVD, NMF, SlopeOne, KNNBasic, KNNWithMeans, KNNBaseline]\n",
    "\n",
    "results = []\n",
    "for model in models:\n",
    "    if 'KNN' in str(model):\n",
    "        res = predict_model(model, sim_options)\n",
    "    else:\n",
    "        res = predict_model(model)\n",
    "\n",
    "    results.append(res)"
   ]
  },
  {
   "cell_type": "code",
   "execution_count": 27,
   "metadata": {},
   "outputs": [
    {
     "data": {
      "text/plain": [
       "[{'Model name': 'SVD', 'RMSE': 0.9670625998876182, 'MAE': 0.7123506015288347},\n",
       " {'Model name': 'KNNBaseline',\n",
       "  'RMSE': 0.9667313439494886,\n",
       "  'MAE': 0.7133589810455935},\n",
       " {'Model name': 'KNNWithMeans',\n",
       "  'RMSE': 1.0156516846043766,\n",
       "  'MAE': 0.7794415679580358},\n",
       " {'Model name': 'SlopeOne',\n",
       "  'RMSE': 1.019549124127825,\n",
       "  'MAE': 0.7800115359663153},\n",
       " {'Model name': 'KNNBasic',\n",
       "  'RMSE': 1.0172666608296024,\n",
       "  'MAE': 0.7812384158730227},\n",
       " {'Model name': 'NMF', 'RMSE': 1.0217235718072273, 'MAE': 0.7862632223565881}]"
      ]
     },
     "execution_count": 27,
     "metadata": {},
     "output_type": "execute_result"
    }
   ],
   "source": [
    "# Get Results\n",
    "sorted(results, key=lambda x: x['MAE'])"
   ]
  },
  {
   "cell_type": "markdown",
   "metadata": {},
   "source": [
    "From the Baseline Models tested, the model with the smallest MAE is the SVD followed by the KNNBaseline Model with an MAE score of 0.712 and 0.713, respectively. Both models will now be tuned for optimized results."
   ]
  },
  {
   "cell_type": "markdown",
   "metadata": {},
   "source": [
    "### Perform GridSearch CV to find Best Params"
   ]
  },
  {
   "cell_type": "markdown",
   "metadata": {},
   "source": [
    "#### Tune Parameters for SVD Model"
   ]
  },
  {
   "cell_type": "code",
   "execution_count": 28,
   "metadata": {},
   "outputs": [],
   "source": [
    "# # Define parameter grid\n",
    "# param_grid = {\n",
    "#     \"n_epochs\": [50, 150, 200, 250],\n",
    "#     \"lr_all\": [0.002, 0.005, 0.01, 0.1],\n",
    "#     \"reg_all\": [0.1, 0.4, 0.6]}\n",
    "# gs = GridSearchCV(SVD, param_grid, measures=[\"mae\",\"rmse\"], cv=5)\n",
    "\n",
    "# # fit train data\n",
    "# gs.fit(data_5k)\n",
    "\n",
    "# # best RMSE score\n",
    "# print(gs.best_score[\"mae\"])\n",
    "# print(gs.best_score[\"rmse\"])\n",
    "\n",
    "# # combination of parameters that gave the best MAE score\n",
    "# print(gs.best_params[\"mae\"])"
   ]
  },
  {
   "cell_type": "code",
   "execution_count": 29,
   "metadata": {},
   "outputs": [],
   "source": [
    "# Run best model and perform cross-validation\n",
    "tuned_model = SVD(n_epochs=200, lr_all=0.002, reg_all=0.1)"
   ]
  },
  {
   "cell_type": "code",
   "execution_count": 30,
   "metadata": {},
   "outputs": [
    {
     "name": "stdout",
     "output_type": "stream",
     "text": [
      "MAE:  0.7102\n",
      "RMSE: 0.9653\n"
     ]
    },
    {
     "data": {
      "text/plain": [
       "0.9653439229707829"
      ]
     },
     "execution_count": 30,
     "metadata": {},
     "output_type": "execute_result"
    }
   ],
   "source": [
    "# Fit, Predict and Evaluate Best SVD Model\n",
    "tuned_model.fit(trainset_5k)\n",
    "\n",
    "svd_preds = tuned_model.test(testset_5k)\n",
    "\n",
    "accuracy.mae(svd_preds)\n",
    "accuracy.rmse(svd_preds)\n"
   ]
  },
  {
   "cell_type": "code",
   "execution_count": 31,
   "metadata": {},
   "outputs": [
    {
     "name": "stdout",
     "output_type": "stream",
     "text": [
      "Evaluating MAE, RMSE of algorithm SVD on 5 split(s).\n",
      "\n",
      "                  Fold 1  Fold 2  Fold 3  Fold 4  Fold 5  Mean    Std     \n",
      "MAE (testset)     0.7092  0.7122  0.7151  0.7086  0.7062  0.7103  0.0031  \n",
      "RMSE (testset)    0.9679  0.9692  0.9702  0.9657  0.9546  0.9655  0.0057  \n",
      "Fit time          1.61    1.63    1.71    1.74    1.69    1.67    0.05    \n",
      "Test time         0.01    0.02    0.01    0.01    0.02    0.01    0.00    \n"
     ]
    },
    {
     "data": {
      "text/plain": [
       "{'test_mae': array([0.70919994, 0.71219496, 0.71511503, 0.70861717, 0.7061788 ]),\n",
       " 'test_rmse': array([0.96793465, 0.96922687, 0.97018171, 0.96573804, 0.95462441]),\n",
       " 'fit_time': (1.6094129085540771,\n",
       "  1.6321840286254883,\n",
       "  1.7069380283355713,\n",
       "  1.737342119216919,\n",
       "  1.687748908996582),\n",
       " 'test_time': (0.014159202575683594,\n",
       "  0.015156984329223633,\n",
       "  0.014237165451049805,\n",
       "  0.013879060745239258,\n",
       "  0.01507711410522461)}"
      ]
     },
     "execution_count": 31,
     "metadata": {},
     "output_type": "execute_result"
    }
   ],
   "source": [
    "# Run 5-fold cross-validation and print results\n",
    "cross_validate(tuned_model, data_5k, measures=[\"MAE\", \"RMSE\"], cv=5, verbose=True)"
   ]
  },
  {
   "cell_type": "markdown",
   "metadata": {},
   "source": [
    "#### Tune Parameters for KNN Baseline Model"
   ]
  },
  {
   "cell_type": "code",
   "execution_count": 32,
   "metadata": {},
   "outputs": [],
   "source": [
    "param_grid = {\n",
    "    'bsl_options': {\n",
    "        'method': ['als', 'sgd'],\n",
    "        'reg': [1, 2],\n",
    "    },\n",
    "    'k': [3, 5, 10, 30],\n",
    "    'sim_options': {\n",
    "        'name': ['msd', 'cosine'],\n",
    "        'min_support': [1, 5, 15],\n",
    "        'user_based': [False],\n",
    "    },\n",
    "}"
   ]
  },
  {
   "cell_type": "code",
   "execution_count": 33,
   "metadata": {},
   "outputs": [],
   "source": [
    "# gs = GridSearchCV(KNNBaseline, param_grid, measures=[\"mae\", \"rmse\"], cv=5)\n",
    "\n",
    "# gs.fit(data_5k)\n",
    "\n",
    "# # best metric scores\n",
    "# print(gs.best_score[\"mae\"])\n",
    "# print(gs.best_score[\"rmse\"])\n",
    "\n",
    "# # combination of parameters that gave the best RMSE score\n",
    "# print(gs.best_params[\"mae\"])"
   ]
  },
  {
   "cell_type": "code",
   "execution_count": 34,
   "metadata": {},
   "outputs": [
    {
     "name": "stdout",
     "output_type": "stream",
     "text": [
      "Estimating biases using als...\n",
      "Computing the msd similarity matrix...\n",
      "Done computing similarity matrix.\n",
      "MAE:  0.7133\n",
      "RMSE: 0.9668\n"
     ]
    },
    {
     "data": {
      "text/plain": [
       "0.966761509388261"
      ]
     },
     "execution_count": 34,
     "metadata": {},
     "output_type": "execute_result"
    }
   ],
   "source": [
    "# Train best KNN model\n",
    "bsl_options = {'method': 'als', 'reg': 1}\n",
    "sim_options = {'name': 'msd', 'min_support': 5, 'user_based': False}\n",
    "\n",
    "tuned_knn = KNNBaseline(k=5, bsl_options=bsl_options, sim_options=sim_options)\n",
    "\n",
    "tuned_knn.fit(trainset=trainset_5k)\n",
    "\n",
    "# Predict\n",
    "knn_preds = tuned_knn.test(testset=testset_5k)\n",
    "\n",
    "# Evaluate\n",
    "accuracy.mae(knn_preds)\n",
    "accuracy.rmse(knn_preds)"
   ]
  },
  {
   "cell_type": "code",
   "execution_count": 35,
   "metadata": {},
   "outputs": [
    {
     "name": "stdout",
     "output_type": "stream",
     "text": [
      "Estimating biases using als...\n",
      "Computing the msd similarity matrix...\n",
      "Done computing similarity matrix.\n",
      "Estimating biases using als...\n",
      "Computing the msd similarity matrix...\n",
      "Done computing similarity matrix.\n",
      "Estimating biases using als...\n",
      "Computing the msd similarity matrix...\n",
      "Done computing similarity matrix.\n",
      "Estimating biases using als...\n",
      "Computing the msd similarity matrix...\n",
      "Done computing similarity matrix.\n",
      "Estimating biases using als...\n",
      "Computing the msd similarity matrix...\n",
      "Done computing similarity matrix.\n",
      "Evaluating MAE, RMSE of algorithm KNNBaseline on 5 split(s).\n",
      "\n",
      "                  Fold 1  Fold 2  Fold 3  Fold 4  Fold 5  Mean    Std     \n",
      "MAE (testset)     0.7261  0.7020  0.7163  0.7131  0.7124  0.7140  0.0077  \n",
      "RMSE (testset)    0.9903  0.9545  0.9714  0.9622  0.9574  0.9671  0.0129  \n",
      "Fit time          0.07    0.06    0.07    0.06    0.07    0.07    0.00    \n",
      "Test time         0.01    0.02    0.01    0.01    0.01    0.01    0.00    \n"
     ]
    },
    {
     "data": {
      "text/plain": [
       "{'test_mae': array([0.7261041 , 0.70201646, 0.71627736, 0.7130898 , 0.71239385]),\n",
       " 'test_rmse': array([0.9903402 , 0.95448092, 0.97138321, 0.9621818 , 0.95736333]),\n",
       " 'fit_time': (0.06772494316101074,\n",
       "  0.05996298789978027,\n",
       "  0.07012081146240234,\n",
       "  0.06389975547790527,\n",
       "  0.0705568790435791),\n",
       " 'test_time': (0.01400899887084961,\n",
       "  0.015027046203613281,\n",
       "  0.01474905014038086,\n",
       "  0.014976024627685547,\n",
       "  0.013681888580322266)}"
      ]
     },
     "execution_count": 35,
     "metadata": {},
     "output_type": "execute_result"
    }
   ],
   "source": [
    "# Run 5-fold cross-validation and print results\n",
    "cross_validate(tuned_knn, data_5k, measures=[\"MAE\", \"RMSE\"], cv=5, verbose=True)"
   ]
  },
  {
   "cell_type": "markdown",
   "metadata": {},
   "source": [
    "### Choose Best Model\n",
    "Based on the return metrics, the SVD model outperforms the KNNBaseline model, though only slightly, after GridSearch and confirmation with Cross-validation. \n",
    "\n",
    "The tuned SVD model had an average MAE score of .7305 and RMSE score of 0.9968 while the tuned KNNBaseline model had an average MAE of 0.7348 and and average RMSE score of 0.9974."
   ]
  },
  {
   "cell_type": "markdown",
   "metadata": {},
   "source": [
    "## Get Top-N Recommendations for Users"
   ]
  },
  {
   "cell_type": "code",
   "execution_count": 37,
   "metadata": {},
   "outputs": [
    {
     "data": {
      "text/plain": [
       "<surprise.prediction_algorithms.matrix_factorization.SVD at 0x13f9ee870>"
      ]
     },
     "execution_count": 37,
     "metadata": {},
     "output_type": "execute_result"
    }
   ],
   "source": [
    "# Train on tuned SVD model\n",
    "train = data_5k.build_full_trainset()\n",
    "tuned_model.fit(train)"
   ]
  },
  {
   "cell_type": "code",
   "execution_count": 38,
   "metadata": {},
   "outputs": [],
   "source": [
    "testset = train.build_anti_testset()"
   ]
  },
  {
   "cell_type": "code",
   "execution_count": 39,
   "metadata": {},
   "outputs": [],
   "source": [
    "# predict ratings for all pairs (u, i) that are NOT in the training set.\n",
    "predictions = tuned_model.test(testset)"
   ]
  },
  {
   "cell_type": "code",
   "execution_count": 40,
   "metadata": {},
   "outputs": [],
   "source": [
    "# Get top 5 recommendations for all users\n",
    "top_n = get_top_n(predictions=predictions, n=5)"
   ]
  },
  {
   "cell_type": "code",
   "execution_count": 42,
   "metadata": {},
   "outputs": [
    {
     "data": {
      "text/plain": [
       "[(143111639, 5.0),\n",
       " (451214471, 5.0),\n",
       " (547905580, 5.0),\n",
       " (735291551, 5.0),\n",
       " (736927964, 5.0)]"
      ]
     },
     "execution_count": 42,
     "metadata": {},
     "output_type": "execute_result"
    }
   ],
   "source": [
    "# TEST: Get Top 5 Recommendations from a random user by looking it up in top_n\n",
    "top_n[get_random_user(trainset=books_5k)]"
   ]
  },
  {
   "cell_type": "markdown",
   "metadata": {},
   "source": [
    "### Import Metadata to Get Recommended Book Titles"
   ]
  },
  {
   "cell_type": "code",
   "execution_count": 44,
   "metadata": {},
   "outputs": [
    {
     "name": "stderr",
     "output_type": "stream",
     "text": [
      "23/12/11 09:11:39 WARN SparkStringUtils: Truncated the string representation of a plan since it was too large. This behavior can be adjusted by setting 'spark.sql.debug.maxToStringFields'.\n"
     ]
    }
   ],
   "source": [
    "spark_df = spark.read.json('../data/books_meta.gz')"
   ]
  },
  {
   "cell_type": "code",
   "execution_count": 51,
   "metadata": {},
   "outputs": [],
   "source": [
    "def get_recs_and_ratings(all_user_recs, trainset) -> dict:\n",
    "    '''Get top-n predicted recommendations for a random user and returns a dictionary of book IDs and predicted ratings.'''\n",
    "\n",
    "    # Get Random User and their Recommendations and Ratings\n",
    "    rand_user = get_random_user(trainset)\n",
    "    recs = all_user_recs[rand_user]\n",
    "\n",
    "    # Wrangle their recommendations and ratings into a dict\n",
    "    bookID = [id[0] for id in recs]\n",
    "    rating = [rec[1] for rec in recs]\n",
    "\n",
    "    pairs = {\n",
    "        'books': bookID,\n",
    "        'predicted_ratings': rating\n",
    "    }\n",
    "\n",
    "    return pairs"
   ]
  },
  {
   "cell_type": "code",
   "execution_count": 53,
   "metadata": {},
   "outputs": [
    {
     "data": {
      "text/plain": [
       "{'books': [1514491877, 1849633436, 1420928244, 1543461468, 807013153],\n",
       " 'predicted_ratings': [5.0, 5.0, 5.0, 5.0, 4.991933454076072]}"
      ]
     },
     "execution_count": 53,
     "metadata": {},
     "output_type": "execute_result"
    }
   ],
   "source": [
    "# Returns the recommended book titles and ratings for a random user\n",
    "recs_and_ratings = get_recs_and_ratings(all_user_recs=top_n, trainset=books_5k)\n",
    "recs_and_ratings"
   ]
  },
  {
   "cell_type": "code",
   "execution_count": 54,
   "metadata": {},
   "outputs": [
    {
     "name": "stderr",
     "output_type": "stream",
     "text": [
      "                                                                                \r"
     ]
    }
   ],
   "source": [
    "# Get metadata for user recs\n",
    "recommendations_metadata = get_metadata(user_recs=recs_and_ratings, spark_session=spark)"
   ]
  },
  {
   "cell_type": "code",
   "execution_count": 55,
   "metadata": {},
   "outputs": [
    {
     "data": {
      "text/html": [
       "<div>\n",
       "<style scoped>\n",
       "    .dataframe tbody tr th:only-of-type {\n",
       "        vertical-align: middle;\n",
       "    }\n",
       "\n",
       "    .dataframe tbody tr th {\n",
       "        vertical-align: top;\n",
       "    }\n",
       "\n",
       "    .dataframe thead th {\n",
       "        text-align: right;\n",
       "    }\n",
       "</style>\n",
       "<table border=\"1\" class=\"dataframe\">\n",
       "  <thead>\n",
       "    <tr style=\"text-align: right;\">\n",
       "      <th></th>\n",
       "      <th>asin</th>\n",
       "      <th>title</th>\n",
       "      <th>price</th>\n",
       "      <th>description</th>\n",
       "    </tr>\n",
       "  </thead>\n",
       "  <tbody>\n",
       "    <tr>\n",
       "      <th>0</th>\n",
       "      <td>1420928244</td>\n",
       "      <td>Army Field Manual FM 22-100 (The U.S. Army Lea...</td>\n",
       "      <td>Price Not Available.</td>\n",
       "      <td>No Description Available.</td>\n",
       "    </tr>\n",
       "    <tr>\n",
       "      <th>1</th>\n",
       "      <td>1514491877</td>\n",
       "      <td>The Essences</td>\n",
       "      <td>$23.99</td>\n",
       "      <td>Writing this book was a very fun process for m...</td>\n",
       "    </tr>\n",
       "    <tr>\n",
       "      <th>2</th>\n",
       "      <td>1543461468</td>\n",
       "      <td>Winning the Staffing Sales Game: The Definitiv...</td>\n",
       "      <td>$19.99</td>\n",
       "      <td>No Description Available.</td>\n",
       "    </tr>\n",
       "    <tr>\n",
       "      <th>3</th>\n",
       "      <td>1849633436</td>\n",
       "      <td>Wolfbaene</td>\n",
       "      <td>$7.81</td>\n",
       "      <td>My name is Michelle Dennis. I live in Ellenbro...</td>\n",
       "    </tr>\n",
       "  </tbody>\n",
       "</table>\n",
       "</div>"
      ],
      "text/plain": [
       "         asin                                              title  \\\n",
       "0  1420928244  Army Field Manual FM 22-100 (The U.S. Army Lea...   \n",
       "1  1514491877                                       The Essences   \n",
       "2  1543461468  Winning the Staffing Sales Game: The Definitiv...   \n",
       "3  1849633436                                          Wolfbaene   \n",
       "\n",
       "                  price                                        description  \n",
       "0  Price Not Available.                          No Description Available.  \n",
       "1                $23.99  Writing this book was a very fun process for m...  \n",
       "2                $19.99                          No Description Available.  \n",
       "3                 $7.81  My name is Michelle Dennis. I live in Ellenbro...  "
      ]
     },
     "execution_count": 55,
     "metadata": {},
     "output_type": "execute_result"
    }
   ],
   "source": [
    "recommendations_metadata"
   ]
  },
  {
   "cell_type": "code",
   "execution_count": 56,
   "metadata": {},
   "outputs": [],
   "source": [
    "# Convert recs and ratings to DF for Merge\n",
    "recs_and_ratings_df = pd.DataFrame(recs_and_ratings)"
   ]
  },
  {
   "cell_type": "code",
   "execution_count": 57,
   "metadata": {},
   "outputs": [
    {
     "data": {
      "text/html": [
       "<div>\n",
       "<style scoped>\n",
       "    .dataframe tbody tr th:only-of-type {\n",
       "        vertical-align: middle;\n",
       "    }\n",
       "\n",
       "    .dataframe tbody tr th {\n",
       "        vertical-align: top;\n",
       "    }\n",
       "\n",
       "    .dataframe thead th {\n",
       "        text-align: right;\n",
       "    }\n",
       "</style>\n",
       "<table border=\"1\" class=\"dataframe\">\n",
       "  <thead>\n",
       "    <tr style=\"text-align: right;\">\n",
       "      <th></th>\n",
       "      <th>books</th>\n",
       "      <th>predicted_ratings</th>\n",
       "    </tr>\n",
       "  </thead>\n",
       "  <tbody>\n",
       "    <tr>\n",
       "      <th>0</th>\n",
       "      <td>1514491877</td>\n",
       "      <td>5.000000</td>\n",
       "    </tr>\n",
       "    <tr>\n",
       "      <th>1</th>\n",
       "      <td>1849633436</td>\n",
       "      <td>5.000000</td>\n",
       "    </tr>\n",
       "    <tr>\n",
       "      <th>2</th>\n",
       "      <td>1420928244</td>\n",
       "      <td>5.000000</td>\n",
       "    </tr>\n",
       "    <tr>\n",
       "      <th>3</th>\n",
       "      <td>1543461468</td>\n",
       "      <td>5.000000</td>\n",
       "    </tr>\n",
       "    <tr>\n",
       "      <th>4</th>\n",
       "      <td>807013153</td>\n",
       "      <td>4.991933</td>\n",
       "    </tr>\n",
       "  </tbody>\n",
       "</table>\n",
       "</div>"
      ],
      "text/plain": [
       "        books  predicted_ratings\n",
       "0  1514491877           5.000000\n",
       "1  1849633436           5.000000\n",
       "2  1420928244           5.000000\n",
       "3  1543461468           5.000000\n",
       "4   807013153           4.991933"
      ]
     },
     "execution_count": 57,
     "metadata": {},
     "output_type": "execute_result"
    }
   ],
   "source": [
    "recs_and_ratings_df"
   ]
  },
  {
   "cell_type": "code",
   "execution_count": 58,
   "metadata": {},
   "outputs": [
    {
     "data": {
      "text/html": [
       "<div>\n",
       "<style scoped>\n",
       "    .dataframe tbody tr th:only-of-type {\n",
       "        vertical-align: middle;\n",
       "    }\n",
       "\n",
       "    .dataframe tbody tr th {\n",
       "        vertical-align: top;\n",
       "    }\n",
       "\n",
       "    .dataframe thead th {\n",
       "        text-align: right;\n",
       "    }\n",
       "</style>\n",
       "<table border=\"1\" class=\"dataframe\">\n",
       "  <thead>\n",
       "    <tr style=\"text-align: right;\">\n",
       "      <th></th>\n",
       "      <th>asin</th>\n",
       "      <th>title</th>\n",
       "      <th>price</th>\n",
       "      <th>description</th>\n",
       "    </tr>\n",
       "  </thead>\n",
       "  <tbody>\n",
       "    <tr>\n",
       "      <th>0</th>\n",
       "      <td>1420928244</td>\n",
       "      <td>Army Field Manual FM 22-100 (The U.S. Army Lea...</td>\n",
       "      <td>Price Not Available.</td>\n",
       "      <td>No Description Available.</td>\n",
       "    </tr>\n",
       "    <tr>\n",
       "      <th>1</th>\n",
       "      <td>1514491877</td>\n",
       "      <td>The Essences</td>\n",
       "      <td>$23.99</td>\n",
       "      <td>Writing this book was a very fun process for m...</td>\n",
       "    </tr>\n",
       "    <tr>\n",
       "      <th>2</th>\n",
       "      <td>1543461468</td>\n",
       "      <td>Winning the Staffing Sales Game: The Definitiv...</td>\n",
       "      <td>$19.99</td>\n",
       "      <td>No Description Available.</td>\n",
       "    </tr>\n",
       "    <tr>\n",
       "      <th>3</th>\n",
       "      <td>1849633436</td>\n",
       "      <td>Wolfbaene</td>\n",
       "      <td>$7.81</td>\n",
       "      <td>My name is Michelle Dennis. I live in Ellenbro...</td>\n",
       "    </tr>\n",
       "  </tbody>\n",
       "</table>\n",
       "</div>"
      ],
      "text/plain": [
       "         asin                                              title  \\\n",
       "0  1420928244  Army Field Manual FM 22-100 (The U.S. Army Lea...   \n",
       "1  1514491877                                       The Essences   \n",
       "2  1543461468  Winning the Staffing Sales Game: The Definitiv...   \n",
       "3  1849633436                                          Wolfbaene   \n",
       "\n",
       "                  price                                        description  \n",
       "0  Price Not Available.                          No Description Available.  \n",
       "1                $23.99  Writing this book was a very fun process for m...  \n",
       "2                $19.99                          No Description Available.  \n",
       "3                 $7.81  My name is Michelle Dennis. I live in Ellenbro...  "
      ]
     },
     "execution_count": 58,
     "metadata": {},
     "output_type": "execute_result"
    }
   ],
   "source": [
    "recommendations_metadata"
   ]
  },
  {
   "cell_type": "code",
   "execution_count": 61,
   "metadata": {},
   "outputs": [],
   "source": [
    "top_5 = recommendations_metadata.merge(recs_and_ratings_df, left_on='asin',right_on='books', how='left')\n",
    "top_5 = top_5.drop('asin', axis=1)"
   ]
  },
  {
   "cell_type": "code",
   "execution_count": 62,
   "metadata": {},
   "outputs": [
    {
     "data": {
      "text/html": [
       "<div>\n",
       "<style scoped>\n",
       "    .dataframe tbody tr th:only-of-type {\n",
       "        vertical-align: middle;\n",
       "    }\n",
       "\n",
       "    .dataframe tbody tr th {\n",
       "        vertical-align: top;\n",
       "    }\n",
       "\n",
       "    .dataframe thead th {\n",
       "        text-align: right;\n",
       "    }\n",
       "</style>\n",
       "<table border=\"1\" class=\"dataframe\">\n",
       "  <thead>\n",
       "    <tr style=\"text-align: right;\">\n",
       "      <th></th>\n",
       "      <th>title</th>\n",
       "      <th>price</th>\n",
       "      <th>description</th>\n",
       "      <th>books</th>\n",
       "      <th>predicted_ratings</th>\n",
       "    </tr>\n",
       "  </thead>\n",
       "  <tbody>\n",
       "    <tr>\n",
       "      <th>0</th>\n",
       "      <td>Army Field Manual FM 22-100 (The U.S. Army Lea...</td>\n",
       "      <td>Price Not Available.</td>\n",
       "      <td>No Description Available.</td>\n",
       "      <td>1420928244</td>\n",
       "      <td>5.0</td>\n",
       "    </tr>\n",
       "    <tr>\n",
       "      <th>1</th>\n",
       "      <td>The Essences</td>\n",
       "      <td>$23.99</td>\n",
       "      <td>Writing this book was a very fun process for m...</td>\n",
       "      <td>1514491877</td>\n",
       "      <td>5.0</td>\n",
       "    </tr>\n",
       "    <tr>\n",
       "      <th>2</th>\n",
       "      <td>Winning the Staffing Sales Game: The Definitiv...</td>\n",
       "      <td>$19.99</td>\n",
       "      <td>No Description Available.</td>\n",
       "      <td>1543461468</td>\n",
       "      <td>5.0</td>\n",
       "    </tr>\n",
       "    <tr>\n",
       "      <th>3</th>\n",
       "      <td>Wolfbaene</td>\n",
       "      <td>$7.81</td>\n",
       "      <td>My name is Michelle Dennis. I live in Ellenbro...</td>\n",
       "      <td>1849633436</td>\n",
       "      <td>5.0</td>\n",
       "    </tr>\n",
       "  </tbody>\n",
       "</table>\n",
       "</div>"
      ],
      "text/plain": [
       "                                               title                 price  \\\n",
       "0  Army Field Manual FM 22-100 (The U.S. Army Lea...  Price Not Available.   \n",
       "1                                       The Essences                $23.99   \n",
       "2  Winning the Staffing Sales Game: The Definitiv...                $19.99   \n",
       "3                                          Wolfbaene                 $7.81   \n",
       "\n",
       "                                         description       books  \\\n",
       "0                          No Description Available.  1420928244   \n",
       "1  Writing this book was a very fun process for m...  1514491877   \n",
       "2                          No Description Available.  1543461468   \n",
       "3  My name is Michelle Dennis. I live in Ellenbro...  1849633436   \n",
       "\n",
       "   predicted_ratings  \n",
       "0                5.0  \n",
       "1                5.0  \n",
       "2                5.0  \n",
       "3                5.0  "
      ]
     },
     "execution_count": 62,
     "metadata": {},
     "output_type": "execute_result"
    }
   ],
   "source": [
    "top_5"
   ]
  }
 ],
 "metadata": {
  "kernelspec": {
   "display_name": "book-recommender",
   "language": "python",
   "name": "python3"
  },
  "language_info": {
   "codemirror_mode": {
    "name": "ipython",
    "version": 3
   },
   "file_extension": ".py",
   "mimetype": "text/x-python",
   "name": "python",
   "nbconvert_exporter": "python",
   "pygments_lexer": "ipython3",
   "version": "3.12.0"
  }
 },
 "nbformat": 4,
 "nbformat_minor": 2
}
